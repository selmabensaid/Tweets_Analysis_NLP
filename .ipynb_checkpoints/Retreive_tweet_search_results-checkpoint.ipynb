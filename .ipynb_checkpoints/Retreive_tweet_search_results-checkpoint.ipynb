{
 "cells": [
  {
   "cell_type": "markdown",
   "metadata": {},
   "source": [
    "# import libraries, set up credencials"
   ]
  },
  {
   "cell_type": "code",
   "execution_count": 1,
   "metadata": {},
   "outputs": [],
   "source": [
    "import tweepy\n",
    "import pandas as pd \n",
    "import csv\n",
    "from datetime import datetime\n",
    "import time\n",
    "pd.set_option('display.max_colwidth', 0)\n",
    "\n",
    "#My Twitter API Authentication Variables\n",
    "\n",
    "consumer_key = 'sCtsRiIsn1F1HNcYFfcLe8dsB'\n",
    "consumer_secret = 'wfr0UwLZeykzNXKhPJ9tbCqbon9gsbT5hCv6ORe5enpgTkJjr7'\n",
    "access_token = '1167132355343060993-mwujErptmxRp0ezVloJSpN8PUuMHbA'\n",
    "access_token_secret = 'XifmztRsyb5XdOPUCSF6YJujXQ61ThWe8d38H247UsNZe'\n",
    "\n",
    "\n",
    "auth = tweepy.OAuthHandler(consumer_key, consumer_secret)\n",
    "auth.set_access_token(access_token, access_token_secret)\n",
    "\n",
    "api = tweepy.API(auth,wait_on_rate_limit=True)\n",
    "\n",
    "\n"
   ]
  },
  {
   "cell_type": "markdown",
   "metadata": {},
   "source": [
    "# Retreive tweets and save them in a csv"
   ]
  },
  {
   "cell_type": "code",
   "execution_count": 2,
   "metadata": {},
   "outputs": [],
   "source": [
    "def get_tweets(listOfTweets, keyword, numOfTweets):\n",
    "    # Iterate through all tweets containing the given word, api search mode\n",
    "    for tweet in tweepy.Cursor(api.search, q=keyword).items(numOfTweets):\n",
    "        # Add tweets in this format\n",
    "        try:\n",
    "            dict_ = {'Screen Name': tweet.user.screen_name,\n",
    "                    'User Name': tweet.user.name,\n",
    "                    'Tweet Created At': tweet.created_at,\n",
    "                    'Tweet Text': tweet.text,\n",
    "                    'User Location': tweet.user.location,\n",
    "                    'Tweet Coordinates': tweet.coordinates,\n",
    "                    'Retweet Count': tweet.retweet_count,\n",
    "                    'Retweeted': tweet.retweeted,\n",
    "                    'Phone Type': tweet.source,\n",
    "                    'Favorite Count': tweet.favorite_count,\n",
    "                    'Favorited': tweet.favorited,\n",
    "                    'Replied': tweet.in_reply_to_status_id_str,\n",
    "                    'ID': tweet.id\n",
    "                    }\n",
    "        except TweepError as e:\n",
    "            if 'Failed to send request:' in e.reason:\n",
    "                print (\"Time out error caught.\")\n",
    "                time.sleep(180)\n",
    "                continue\n",
    "        listOfTweets.append(dict_)   \n",
    "    return listOfTweets\n",
    "\n",
    "\n"
   ]
  },
  {
   "cell_type": "code",
   "execution_count": null,
   "metadata": {},
   "outputs": [],
   "source": [
    "tweets=[]\n",
    "subject='Data Science'\n",
    "numOfTweets=5000\n",
    "Data_Science=get_tweets(tweets,subject, numOfTweets)\n"
   ]
  },
  {
   "cell_type": "code",
   "execution_count": null,
   "metadata": {},
   "outputs": [],
   "source": [
    "len (Data_Science)"
   ]
  },
  {
   "cell_type": "code",
   "execution_count": null,
   "metadata": {},
   "outputs": [],
   "source": [
    "tweet_df=pd.DataFrame.from_dict(Data_Science)\n",
    "tweet_df.head()"
   ]
  },
  {
   "cell_type": "code",
   "execution_count": null,
   "metadata": {
    "jupyter": {
     "source_hidden": true
    }
   },
   "outputs": [],
   "source": []
  },
  {
   "cell_type": "code",
   "execution_count": null,
   "metadata": {},
   "outputs": [],
   "source": [
    "tweet_df.to_csv('Data_Science.csv', sep='\\t', encoding='utf-8')"
   ]
  },
  {
   "cell_type": "code",
   "execution_count": null,
   "metadata": {},
   "outputs": [],
   "source": []
  }
 ],
 "metadata": {
  "kernelspec": {
   "display_name": "Python 3",
   "language": "python",
   "name": "python3"
  },
  "language_info": {
   "codemirror_mode": {
    "name": "ipython",
    "version": 3
   },
   "file_extension": ".py",
   "mimetype": "text/x-python",
   "name": "python",
   "nbconvert_exporter": "python",
   "pygments_lexer": "ipython3",
   "version": "3.7.3"
  }
 },
 "nbformat": 4,
 "nbformat_minor": 4
}
