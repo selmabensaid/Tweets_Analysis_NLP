{
 "cells": [
  {
   "cell_type": "markdown",
   "metadata": {},
   "source": [
    "# import libraries, set up credencials"
   ]
  },
  {
   "cell_type": "code",
   "execution_count": 5,
   "metadata": {},
   "outputs": [],
   "source": [
    "import tweepy\n",
    "import pandas as pd \n",
    "import csv\n",
    "from datetime import datetime\n",
    "import time\n",
    "pd.set_option('display.max_colwidth', 0)\n",
    "\n",
    "#My Twitter API Authentication Variables\n",
    "\n",
    "consumer_key = 'sCtsRiIsn1F1HNcYFfcLe8dsB'\n",
    "consumer_secret = 'wfr0UwLZeykzNXKhPJ9tbCqbon9gsbT5hCv6ORe5enpgTkJjr7'\n",
    "access_token = '1167132355343060993-mwujErptmxRp0ezVloJSpN8PUuMHbA'\n",
    "access_token_secret = 'XifmztRsyb5XdOPUCSF6YJujXQ61ThWe8d38H247UsNZe'\n",
    "\n",
    "\n",
    "auth = tweepy.OAuthHandler(consumer_key, consumer_secret)\n",
    "auth.set_access_token(access_token, access_token_secret)\n",
    "\n",
    "api = tweepy.API(auth,wait_on_rate_limit=True)\n",
    "\n",
    "\n"
   ]
  },
  {
   "cell_type": "markdown",
   "metadata": {},
   "source": [
    "# Retreive tweets and save them in a csv"
   ]
  },
  {
   "cell_type": "code",
   "execution_count": 6,
   "metadata": {},
   "outputs": [],
   "source": [
    "def get_tweets(listOfTweets, keyword, numOfTweets):\n",
    "    # Iterate through all tweets containing the given word, api search mode\n",
    "    for tweet in tweepy.Cursor(api.search, q=keyword, lang='en').items(numOfTweets):\n",
    "        # Add tweets in this format\n",
    "        try:\n",
    "            dict_ = {'Screen Name': tweet.user.screen_name,\n",
    "                    'User Name': tweet.user.name,\n",
    "                    'Tweet Created At': tweet.created_at,\n",
    "                    'Tweet Text': tweet.text,\n",
    "                    'User Location': tweet.user.location,\n",
    "                    'Tweet Coordinates': tweet.coordinates,\n",
    "                    'Retweet Count': tweet.retweet_count,\n",
    "                    'Retweeted': tweet.retweeted,\n",
    "                    'Phone Type': tweet.source,\n",
    "                    'Favorite Count': tweet.favorite_count,\n",
    "                    'Favorited': tweet.favorited,\n",
    "                    'Replied': tweet.in_reply_to_status_id_str,\n",
    "                    'ID': tweet.id\n",
    "                    }\n",
    "        except TweepError as e:\n",
    "            if 'Failed to send request:' in e.reason:\n",
    "                print (\"Time out error caught.\")\n",
    "                time.sleep(180)\n",
    "                continue\n",
    "        listOfTweets.append(dict_)   \n",
    "    return listOfTweets\n",
    "\n",
    "\n"
   ]
  },
  {
   "cell_type": "code",
   "execution_count": 8,
   "metadata": {},
   "outputs": [],
   "source": [
    "tweets=[]\n",
    "subject='Data Science'\n",
    "numOfTweets=5000\n",
    "Data_Science=get_tweets(tweets,subject, numOfTweets)\n"
   ]
  },
  {
   "cell_type": "code",
   "execution_count": 9,
   "metadata": {},
   "outputs": [
    {
     "data": {
      "text/plain": [
       "5000"
      ]
     },
     "execution_count": 9,
     "metadata": {},
     "output_type": "execute_result"
    }
   ],
   "source": [
    "len (Data_Science)"
   ]
  },
  {
   "cell_type": "code",
   "execution_count": 10,
   "metadata": {},
   "outputs": [
    {
     "data": {
      "text/html": [
       "<div>\n",
       "<style scoped>\n",
       "    .dataframe tbody tr th:only-of-type {\n",
       "        vertical-align: middle;\n",
       "    }\n",
       "\n",
       "    .dataframe tbody tr th {\n",
       "        vertical-align: top;\n",
       "    }\n",
       "\n",
       "    .dataframe thead th {\n",
       "        text-align: right;\n",
       "    }\n",
       "</style>\n",
       "<table border=\"1\" class=\"dataframe\">\n",
       "  <thead>\n",
       "    <tr style=\"text-align: right;\">\n",
       "      <th></th>\n",
       "      <th>Favorite Count</th>\n",
       "      <th>Favorited</th>\n",
       "      <th>ID</th>\n",
       "      <th>Phone Type</th>\n",
       "      <th>Replied</th>\n",
       "      <th>Retweet Count</th>\n",
       "      <th>Retweeted</th>\n",
       "      <th>Screen Name</th>\n",
       "      <th>Tweet Coordinates</th>\n",
       "      <th>Tweet Created At</th>\n",
       "      <th>Tweet Text</th>\n",
       "      <th>User Location</th>\n",
       "      <th>User Name</th>\n",
       "    </tr>\n",
       "  </thead>\n",
       "  <tbody>\n",
       "    <tr>\n",
       "      <th>0</th>\n",
       "      <td>0</td>\n",
       "      <td>False</td>\n",
       "      <td>1171978318368796672</td>\n",
       "      <td>Twitter for iPhone</td>\n",
       "      <td>1171974540043403264</td>\n",
       "      <td>0</td>\n",
       "      <td>False</td>\n",
       "      <td>KingoOsel</td>\n",
       "      <td>None</td>\n",
       "      <td>2019-09-12 02:46:20</td>\n",
       "      <td>@jagare_ulrika @KirkDBorne @Strategy_Gal The books &amp;amp; the series are fine.\\nBut I thought it would be hilarious to ha… https://t.co/O3afts3ZmK</td>\n",
       "      <td></td>\n",
       "      <td>Kingo Osel</td>\n",
       "    </tr>\n",
       "    <tr>\n",
       "      <th>1</th>\n",
       "      <td>0</td>\n",
       "      <td>False</td>\n",
       "      <td>1171978274978848770</td>\n",
       "      <td>rstatsretweetingtool</td>\n",
       "      <td>None</td>\n",
       "      <td>1</td>\n",
       "      <td>False</td>\n",
       "      <td>rstatstweet</td>\n",
       "      <td>None</td>\n",
       "      <td>2019-09-12 02:46:09</td>\n",
       "      <td>RT @seanrife: Hello science tweeps! I am working on an RRR that is about to begin data collection. If anyone who is comfortable with #rstat…</td>\n",
       "      <td></td>\n",
       "      <td>Rstats</td>\n",
       "    </tr>\n",
       "    <tr>\n",
       "      <th>2</th>\n",
       "      <td>0</td>\n",
       "      <td>False</td>\n",
       "      <td>1171978082988646400</td>\n",
       "      <td>Twitter for iPad</td>\n",
       "      <td>None</td>\n",
       "      <td>1</td>\n",
       "      <td>False</td>\n",
       "      <td>follysantidote</td>\n",
       "      <td>None</td>\n",
       "      <td>2019-09-12 02:45:23</td>\n",
       "      <td>RT @3AInstitute: We are so excited to share at @ellenbroad will be joining 3A Institute in mid-October! Ellen will be a great addition to o…</td>\n",
       "      <td>Queensland, Australia</td>\n",
       "      <td>Folly's Antidote</td>\n",
       "    </tr>\n",
       "    <tr>\n",
       "      <th>3</th>\n",
       "      <td>0</td>\n",
       "      <td>False</td>\n",
       "      <td>1171978001594159105</td>\n",
       "      <td>Wynand 2.0</td>\n",
       "      <td>None</td>\n",
       "      <td>20</td>\n",
       "      <td>False</td>\n",
       "      <td>wynandbooysen</td>\n",
       "      <td>None</td>\n",
       "      <td>2019-09-12 02:45:04</td>\n",
       "      <td>RT @gp_pulipaka: Data Science for Good: Recommendation System. #BigData #Analytics #DataScience #AI #MachineLearning #IoT #IIoT #PyTorch #P…</td>\n",
       "      <td>South Africa</td>\n",
       "      <td>🇿🇦 Wynand Booysen 💻 改善</td>\n",
       "    </tr>\n",
       "    <tr>\n",
       "      <th>4</th>\n",
       "      <td>0</td>\n",
       "      <td>False</td>\n",
       "      <td>1171977936150417409</td>\n",
       "      <td>ComaBot</td>\n",
       "      <td>None</td>\n",
       "      <td>20</td>\n",
       "      <td>False</td>\n",
       "      <td>Comatose_D</td>\n",
       "      <td>None</td>\n",
       "      <td>2019-09-12 02:44:48</td>\n",
       "      <td>RT @gp_pulipaka: Data Science for Good: Recommendation System. #BigData #Analytics #DataScience #AI #MachineLearning #IoT #IIoT #PyTorch #P…</td>\n",
       "      <td>Game Grid</td>\n",
       "      <td>comatosed</td>\n",
       "    </tr>\n",
       "  </tbody>\n",
       "</table>\n",
       "</div>"
      ],
      "text/plain": [
       "   Favorite Count  Favorited                   ID            Phone Type  \\\n",
       "0  0               False      1171978318368796672  Twitter for iPhone     \n",
       "1  0               False      1171978274978848770  rstatsretweetingtool   \n",
       "2  0               False      1171978082988646400  Twitter for iPad       \n",
       "3  0               False      1171978001594159105  Wynand 2.0             \n",
       "4  0               False      1171977936150417409  ComaBot                \n",
       "\n",
       "               Replied  Retweet Count  Retweeted     Screen Name  \\\n",
       "0  1171974540043403264  0              False      KingoOsel        \n",
       "1  None                 1              False      rstatstweet      \n",
       "2  None                 1              False      follysantidote   \n",
       "3  None                 20             False      wynandbooysen    \n",
       "4  None                 20             False      Comatose_D       \n",
       "\n",
       "  Tweet Coordinates    Tweet Created At  \\\n",
       "0  None             2019-09-12 02:46:20   \n",
       "1  None             2019-09-12 02:46:09   \n",
       "2  None             2019-09-12 02:45:23   \n",
       "3  None             2019-09-12 02:45:04   \n",
       "4  None             2019-09-12 02:44:48   \n",
       "\n",
       "                                                                                                                                          Tweet Text  \\\n",
       "0  @jagare_ulrika @KirkDBorne @Strategy_Gal The books &amp; the series are fine.\\nBut I thought it would be hilarious to ha… https://t.co/O3afts3ZmK   \n",
       "1  RT @seanrife: Hello science tweeps! I am working on an RRR that is about to begin data collection. If anyone who is comfortable with #rstat…        \n",
       "2  RT @3AInstitute: We are so excited to share at @ellenbroad will be joining 3A Institute in mid-October! Ellen will be a great addition to o…        \n",
       "3  RT @gp_pulipaka: Data Science for Good: Recommendation System. #BigData #Analytics #DataScience #AI #MachineLearning #IoT #IIoT #PyTorch #P…        \n",
       "4  RT @gp_pulipaka: Data Science for Good: Recommendation System. #BigData #Analytics #DataScience #AI #MachineLearning #IoT #IIoT #PyTorch #P…        \n",
       "\n",
       "           User Location               User Name  \n",
       "0                         Kingo Osel              \n",
       "1                         Rstats                  \n",
       "2  Queensland, Australia  Folly's Antidote        \n",
       "3  South Africa           🇿🇦 Wynand Booysen 💻 改善  \n",
       "4  Game Grid              comatosed               "
      ]
     },
     "execution_count": 10,
     "metadata": {},
     "output_type": "execute_result"
    }
   ],
   "source": [
    "tweet_df=pd.DataFrame.from_dict(Data_Science)\n",
    "tweet_df.head()"
   ]
  },
  {
   "cell_type": "code",
   "execution_count": null,
   "metadata": {
    "jupyter": {
     "source_hidden": true
    }
   },
   "outputs": [],
   "source": []
  },
  {
   "cell_type": "code",
   "execution_count": 11,
   "metadata": {},
   "outputs": [],
   "source": [
    "tweet_df.to_csv('Data_Science.csv', sep='\\t', encoding='utf-8')"
   ]
  },
  {
   "cell_type": "code",
   "execution_count": null,
   "metadata": {},
   "outputs": [],
   "source": []
  }
 ],
 "metadata": {
  "kernelspec": {
   "display_name": "Python 3",
   "language": "python",
   "name": "python3"
  },
  "language_info": {
   "codemirror_mode": {
    "name": "ipython",
    "version": 3
   },
   "file_extension": ".py",
   "mimetype": "text/x-python",
   "name": "python",
   "nbconvert_exporter": "python",
   "pygments_lexer": "ipython3",
   "version": "3.7.3"
  }
 },
 "nbformat": 4,
 "nbformat_minor": 4
}
